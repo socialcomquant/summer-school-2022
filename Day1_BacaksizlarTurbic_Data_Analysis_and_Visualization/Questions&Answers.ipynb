{
 "cells": [
  {
   "cell_type": "markdown",
   "id": "01fc2328",
   "metadata": {},
   "source": [
    "<img src='images/gesis.png' style='height: 60px; float: left'>\n",
    "<img src='images/social_comquant.png' style='height: 50px; float: right'>"
   ]
  },
  {
   "cell_type": "markdown",
   "id": "747d16a3",
   "metadata": {},
   "source": [
    "-------------------------------------------------------------------------------------------------------------------------------\n",
    "# SUMMER SCHOOL 2022:\n",
    "## Text mining and Natural Language Processing for Computational Social Sciences\n",
    "\n",
    "### SocialComQuant Project | July 25, 2022 | Istanbul, Turkey\n",
    "\n",
    "### N. Gizem Bacaksizlar Turbic \n",
    "Email: gizem.bacaksizlarturbic@gesis.org\n",
    "\n",
    "## Class Questions and Answers - Data Analysis and Visualization with Python \n",
    "-------------------------------------------------------------------------------------------------------------------------------\n",
    "This is a notebook for answers to the questions asked during the introductory course for data analysis and visulization with Python's pandas library on Jupyter-notebook."
   ]
  },
  {
   "cell_type": "code",
   "execution_count": 1,
   "id": "8d07fd4d",
   "metadata": {},
   "outputs": [
    {
     "data": {
      "text/html": [
       "<style>.container { width:100% !important; }</style>"
      ],
      "text/plain": [
       "<IPython.core.display.HTML object>"
      ]
     },
     "metadata": {},
     "output_type": "display_data"
    }
   ],
   "source": [
    "# Expand the display\n",
    "from IPython.core.display import display, HTML\n",
    "display(HTML(\"<style>.container { width:100% !important; }</style>\"))"
   ]
  },
  {
   "cell_type": "markdown",
   "id": "d83d7eb5",
   "metadata": {},
   "source": [
    "## 1. Can we change the order in the list?"
   ]
  },
  {
   "cell_type": "code",
   "execution_count": 2,
   "id": "2e443680",
   "metadata": {},
   "outputs": [
    {
     "data": {
      "text/plain": [
       "[1, 'b', 'a', 3]"
      ]
     },
     "execution_count": 2,
     "metadata": {},
     "output_type": "execute_result"
    }
   ],
   "source": [
    "## First approach:\n",
    "a = ['a', 'b', 1, 3]\n",
    "a[0], a[2] = a[2], a[0]\n",
    "a"
   ]
  },
  {
   "cell_type": "code",
   "execution_count": 3,
   "id": "fcfa6d5d",
   "metadata": {},
   "outputs": [
    {
     "data": {
      "text/plain": [
       "['b', 1, 'a', 3]"
      ]
     },
     "execution_count": 3,
     "metadata": {},
     "output_type": "execute_result"
    }
   ],
   "source": [
    "# second approach: Let's swap 1 and b.\n",
    "a[0] = 'b'\n",
    "a[1] = 1\n",
    "a"
   ]
  },
  {
   "cell_type": "markdown",
   "id": "f6cd150b",
   "metadata": {},
   "source": [
    "## 2. Can we insert an element at a specific place in the list and update the list?\n"
   ]
  },
  {
   "cell_type": "code",
   "execution_count": 4,
   "id": "8a47f99a",
   "metadata": {},
   "outputs": [
    {
     "data": {
      "text/plain": [
       "['a', 'b', 1, 2, 3]"
      ]
     },
     "execution_count": 4,
     "metadata": {},
     "output_type": "execute_result"
    }
   ],
   "source": [
    "## First approach:\n",
    "a = ['a', 'b', 1, 3]\n",
    "# I want to insert 2 into the right place.\n",
    "b = a[:]\n",
    "b.insert(3, 2)\n",
    "b"
   ]
  },
  {
   "cell_type": "code",
   "execution_count": 5,
   "id": "5cfd15c2",
   "metadata": {},
   "outputs": [
    {
     "data": {
      "text/plain": [
       "['a', 'b', 1, 2, 3]"
      ]
     },
     "execution_count": 5,
     "metadata": {},
     "output_type": "execute_result"
    }
   ],
   "source": [
    "## Second approach:\n",
    "a = ['a', 'b', 1, 3]\n",
    "insert_at = 3  # index at which you want to insert item\n",
    "\n",
    "b = a[:]\n",
    "\n",
    "b[insert_at:insert_at] = [2]  # insert \"2\" within \"b\"\n",
    "b"
   ]
  },
  {
   "cell_type": "markdown",
   "id": "4a17a839",
   "metadata": {},
   "source": [
    "## 3. Can we write a list comprehension with if/else statement?"
   ]
  },
  {
   "cell_type": "code",
   "execution_count": 6,
   "id": "c76d8f53",
   "metadata": {},
   "outputs": [
    {
     "name": "stdout",
     "output_type": "stream",
     "text": [
      "1 is odd\n",
      "2 is even\n",
      "3 is odd\n",
      "4 is even\n",
      "5 is odd\n",
      "6 is even\n",
      "7 is odd\n",
      "8 is even\n",
      "9 is odd\n",
      "10 is even\n"
     ]
    }
   ],
   "source": [
    "a = range(1,11)\n",
    "\n",
    "for element in a:\n",
    "    if element %2 == 0:\n",
    "        print( '%0d is even'% element)\n",
    "    else:\n",
    "        print(element, 'is odd')"
   ]
  },
  {
   "cell_type": "code",
   "execution_count": 7,
   "id": "70b4fad0",
   "metadata": {},
   "outputs": [
    {
     "name": "stdout",
     "output_type": "stream",
     "text": [
      "1 is odd\n",
      "2 is even\n",
      "3 is odd\n",
      "4 is even\n",
      "5 is odd\n",
      "6 is even\n",
      "7 is odd\n",
      "8 is even\n",
      "9 is odd\n",
      "10 is even\n"
     ]
    }
   ],
   "source": [
    "# how to write the for loop above with the list comprehension\n",
    "obj = [f\"{element} is even\" if element %2 == 0 else f\"{element} is odd\" for element in a]\n",
    "print('\\n'.join(obj))"
   ]
  },
  {
   "cell_type": "markdown",
   "id": "a6b7ce8a",
   "metadata": {},
   "source": [
    "## 4. How can we read .gz data?"
   ]
  },
  {
   "cell_type": "markdown",
   "id": "6ed2a619",
   "metadata": {},
   "source": [
    "import csv\n",
    "\n",
    "import pandas as pd\n",
    "\n",
    "data_frame = pd.read_csv(\"./filepath/filename.gz\", sep=\"\\t\", lineterminator='\\n', low_memory=False, quoting=csv.QUOTE_NONE, escapechar=None, header=None)"
   ]
  },
  {
   "cell_type": "markdown",
   "id": "900541d9",
   "metadata": {},
   "source": [
    "## 5. How to index into a dictionary?"
   ]
  },
  {
   "cell_type": "markdown",
   "id": "9173fd90",
   "metadata": {},
   "source": [
    "As a rule, dictionaries are orderless in Python! If you would like to learn more, check this out:\n",
    "https://docs.python.org/3/tutorial/datastructures.html\n",
    "https://stackoverflow.com/questions/4326658/how-to-index-into-a-dictionary"
   ]
  },
  {
   "cell_type": "markdown",
   "id": "c7306dfa",
   "metadata": {},
   "source": [
    "## 6. In Python, what is the difference between “.append()” and “+= []”?"
   ]
  },
  {
   "cell_type": "markdown",
   "id": "88b4a1d3",
   "metadata": {},
   "source": [
    "It depends on our problem. Mostly, append and += have the same result; they add the item to the list, without producing a new list. Using + adds the two lists and produces a new list."
   ]
  },
  {
   "cell_type": "markdown",
   "id": "d1731e2a",
   "metadata": {},
   "source": [
    "## 7. What is an array in Python?"
   ]
  },
  {
   "cell_type": "markdown",
   "id": "fa49d2e7",
   "metadata": {},
   "source": [
    "An array is a data structure that stores values of same data type. In Python, this is the main difference between arrays and lists. \n",
    "While python lists can contain values corresponding to different data types, arrays in python can only contain values corresponding to same data type.\n",
    "Reference: https://docs.python.org/3/library/array.html"
   ]
  },
  {
   "cell_type": "markdown",
   "id": "1672920b",
   "metadata": {},
   "source": [
    "## 8. How can we delete a specific word at the beginning of the string?"
   ]
  },
  {
   "cell_type": "code",
   "execution_count": 8,
   "id": "ad41ca6f",
   "metadata": {},
   "outputs": [
    {
     "data": {
      "text/plain": [
       "'It is a warm day.'"
      ]
     },
     "execution_count": 8,
     "metadata": {},
     "output_type": "execute_result"
    }
   ],
   "source": [
    "# Let's remove Warning from the beginning of the string.\n",
    "text = \"Warning It is a warm day.\"\n",
    "\n",
    "text.lstrip('Warning ')\n"
   ]
  },
  {
   "cell_type": "markdown",
   "id": "7d711f82",
   "metadata": {},
   "source": [
    "## 9. Could you suggest some Python online courses or sources?"
   ]
  },
  {
   "cell_type": "markdown",
   "id": "710f2122",
   "metadata": {},
   "source": [
    "Yes, sure! Check Coursera webpage out. \n",
    "Very helpful: https://www.coursera.org/specializations/python\n",
    "\n",
    "Also, this one from MIT: https://ocw.mit.edu/courses/electrical-engineering-and-computer-science/6-0001-introduction-to-computer-science-and-programming-in-python-fall-2016/\n",
    "\n",
    "The Python Tutorial: https://docs.python.org/3.6/tutorial/index.html\n",
    "\n",
    "Awesome Python:  https://awesome-python.com/\n",
    "\n",
    "Stackoverflow: https://stackoverflow.com/questions/tagged/python\n",
    "\n",
    "More reference: https://github.com/socialcomquant/summer-school-2022/blob/main/Software_Installation_Guidelines/Python_installation-How_and_where_to_start.ipynb"
   ]
  },
  {
   "cell_type": "code",
   "execution_count": null,
   "id": "164ac967",
   "metadata": {},
   "outputs": [],
   "source": []
  }
 ],
 "metadata": {
  "kernelspec": {
   "display_name": "Python 3",
   "language": "python",
   "name": "python3"
  },
  "language_info": {
   "codemirror_mode": {
    "name": "ipython",
    "version": 3
   },
   "file_extension": ".py",
   "mimetype": "text/x-python",
   "name": "python",
   "nbconvert_exporter": "python",
   "pygments_lexer": "ipython3",
   "version": "3.8.8"
  }
 },
 "nbformat": 4,
 "nbformat_minor": 5
}
